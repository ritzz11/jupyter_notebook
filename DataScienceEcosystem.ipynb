{
 "cells": [
  {
   "cell_type": "markdown",
   "id": "1041b5e2-38a4-4600-a18c-0e5daac80965",
   "metadata": {},
   "source": [
    "# Data Science Tools and Ecosystem"
   ]
  },
  {
   "cell_type": "markdown",
   "id": "34de86b4-5596-4511-a168-d0e1b371e1fb",
   "metadata": {},
   "source": [
    "In this notebook, Data Science Tools and Ecosystem are summarized."
   ]
  },
  {
   "cell_type": "markdown",
   "id": "6e988fe6-f797-4fcb-a1b8-0a8811272f9d",
   "metadata": {},
   "source": [
    "__Objectives:__\n",
    "- Creating Markdown cells\n",
    "- Adding comments to code cells.\n",
    "- Creating ordered and unordered lists.\n",
    "- Formating contents with heading styles.\n",
    "- Arithmetic in code cells."
   ]
  },
  {
   "cell_type": "markdown",
   "id": "6d6769b3-483e-453c-abeb-5d696d948b88",
   "metadata": {},
   "source": [
    "Some of the popular languages that Data Scientists use are:\n",
    "1. Ggplot2\n",
    "2. Numpy\n",
    "3. Pandas"
   ]
  },
  {
   "cell_type": "markdown",
   "id": "45a1b62a-63ec-4b34-9ed7-45da4a60a49e",
   "metadata": {},
   "source": [
    "Some of the commonly used libraries used by Data Scientists include:\n",
    "1. Ggplot2\n",
    "2. Pandas\n",
    "3. Numpy\n",
    "4. Matplotlib"
   ]
  },
  {
   "cell_type": "markdown",
   "id": "8d87dcb3-6516-404f-b6e5-4d5e8ac3c10d",
   "metadata": {},
   "source": [
    "|Data Science Tools|\n",
    "|------------------|\n",
    "|Ananconda|\n",
    "|R Studio|\n",
    "|Jupyter Notebook|"
   ]
  },
  {
   "cell_type": "markdown",
   "id": "82097f83-f32d-431e-9f61-6f1c23388529",
   "metadata": {},
   "source": [
    "### Below are a few examples of evaluating arithmetic expressions in Python"
   ]
  },
  {
   "cell_type": "code",
   "execution_count": 4,
   "id": "8fc3568f-3f10-4cf9-8bb1-7aec56793458",
   "metadata": {},
   "outputs": [
    {
     "data": {
      "text/plain": [
       "17"
      ]
     },
     "execution_count": 4,
     "metadata": {},
     "output_type": "execute_result"
    }
   ],
   "source": [
    "# This a simple arithmetic expression to mutiply then add integers.\n",
    "(3*4)+5"
   ]
  },
  {
   "cell_type": "code",
   "execution_count": 5,
   "id": "3abbc3b8-7b4f-472d-bced-1837b7d14c7c",
   "metadata": {},
   "outputs": [
    {
     "data": {
      "text/plain": [
       "3.3333333333333335"
      ]
     },
     "execution_count": 5,
     "metadata": {},
     "output_type": "execute_result"
    }
   ],
   "source": [
    "# This will convert 200 minutes to hours by diving by 60\n",
    "200/60"
   ]
  },
  {
   "cell_type": "markdown",
   "id": "7f66f506-de9b-4275-ba91-b1dce1271e17",
   "metadata": {},
   "source": [
    "## Author\n",
    "Ritika"
   ]
  },
  {
   "cell_type": "code",
   "execution_count": null,
   "id": "175d5e12-dd02-4586-b42d-c3a09abf873b",
   "metadata": {},
   "outputs": [],
   "source": []
  }
 ],
 "metadata": {
  "kernelspec": {
   "display_name": "Python 3 (ipykernel)",
   "language": "python",
   "name": "python3"
  },
  "language_info": {
   "codemirror_mode": {
    "name": "ipython",
    "version": 3
   },
   "file_extension": ".py",
   "mimetype": "text/x-python",
   "name": "python",
   "nbconvert_exporter": "python",
   "pygments_lexer": "ipython3",
   "version": "3.10.9"
  }
 },
 "nbformat": 4,
 "nbformat_minor": 5
}
